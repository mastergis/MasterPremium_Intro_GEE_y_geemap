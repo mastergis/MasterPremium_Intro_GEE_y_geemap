{
  "nbformat": 4,
  "nbformat_minor": 0,
  "metadata": {
    "colab": {
      "name": "01_geemap.ipynb",
      "provenance": [],
      "collapsed_sections": [],
      "authorship_tag": "ABX9TyM6SUs3ecuq6PgAsbi64TdW",
      "include_colab_link": true
    },
    "kernelspec": {
      "name": "python3",
      "display_name": "Python 3"
    },
    "language_info": {
      "name": "python"
    }
  },
  "cells": [
    {
      "cell_type": "markdown",
      "metadata": {
        "id": "view-in-github",
        "colab_type": "text"
      },
      "source": [
        "<a href=\"https://colab.research.google.com/github/mastergis/MasterPremium_Intro_GEE_y_geemap/blob/main/01_geemap.ipynb\" target=\"_parent\"><img src=\"https://colab.research.google.com/assets/colab-badge.svg\" alt=\"Open In Colab\"/></a>"
      ]
    },
    {
      "cell_type": "markdown",
      "metadata": {
        "id": "MQzLLDe5spfx"
      },
      "source": [
        "## **01: Inicializar Earth Engine**\n",
        "\n",
        "> En Google Colab ya se encuentra instalado la última version de la biblioteca cliente de **Earth Engine Python** (a través de **pip**)"
      ]
    },
    {
      "cell_type": "code",
      "metadata": {
        "id": "ERodp0mCp2h0"
      },
      "source": [
        ""
      ],
      "execution_count": null,
      "outputs": []
    }
  ]
}