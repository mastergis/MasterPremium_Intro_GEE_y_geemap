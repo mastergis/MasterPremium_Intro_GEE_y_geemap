{
  "nbformat": 4,
  "nbformat_minor": 0,
  "metadata": {
    "colab": {
      "name": "01_geemap.ipynb",
      "provenance": [],
      "collapsed_sections": [],
      "toc_visible": true,
      "authorship_tag": "ABX9TyPLpmBvyMt8un8K1AK+Qn1D",
      "include_colab_link": true
    },
    "kernelspec": {
      "name": "python3",
      "display_name": "Python 3"
    },
    "language_info": {
      "name": "python"
    }
  },
  "cells": [
    {
      "cell_type": "markdown",
      "metadata": {
        "id": "view-in-github",
        "colab_type": "text"
      },
      "source": [
        "<a href=\"https://colab.research.google.com/github/mastergis/MasterPremium_Intro_GEE_y_geemap/blob/main/01_geemap.ipynb\" target=\"_parent\"><img src=\"https://colab.research.google.com/assets/colab-badge.svg\" alt=\"Open In Colab\"/></a>"
      ]
    },
    {
      "cell_type": "markdown",
      "metadata": {
        "id": "MQzLLDe5spfx"
      },
      "source": [
        "## **01: Inicializar Earth Engine**\n",
        "\n",
        "> En Google Colab ya se encuentra instalado la última version de la biblioteca cliente de **Earth Engine Python** (a través de **pip**)"
      ]
    },
    {
      "cell_type": "markdown",
      "metadata": {
        "id": "cVd0mtPWtWBB"
      },
      "source": [
        "## **02: Instalar geemap**\n",
        "\n",
        "> geemap esta disponible en **PyPi**. Para instalar geemap debes realizarlo con **!pip install**"
      ]
    },
    {
      "cell_type": "markdown",
      "metadata": {
        "id": "A_8FU5t-tffh"
      },
      "source": [
        "> ### Inicializando geemap"
      ]
    },
    {
      "cell_type": "markdown",
      "metadata": {
        "id": "5jjDSDRouawc"
      },
      "source": [
        "## **03: Mapa interactivo usando eefolium**"
      ]
    },
    {
      "cell_type": "code",
      "metadata": {
        "id": "AT_vvb-LUkoD"
      },
      "source": [
        "import geemap.eefolium as geemap"
      ],
      "execution_count": null,
      "outputs": []
    },
    {
      "cell_type": "code",
      "metadata": {
        "id": "DVLbpRc0vtdg"
      },
      "source": [
        "Map=geemap.Map(center=[-9.107848,-77.609993], zoom=9)\n",
        "Map"
      ],
      "execution_count": null,
      "outputs": []
    },
    {
      "cell_type": "code",
      "metadata": {
        "id": "53eVeDL6yGfR"
      },
      "source": [
        "#BaseMap\n",
        "Map=geemap.Map(center=[40, -100], zoom=4)\n",
        "Map.add_basemap('Esri Ocean')\n",
        "Map"
      ],
      "execution_count": null,
      "outputs": []
    },
    {
      "cell_type": "code",
      "metadata": {
        "id": "1vr9t2ETyfin"
      },
      "source": [
        "#agregar una capa WMS al mapa\n",
        "Map=geemap.Map(center=[40, -100], zoom=4)\n",
        "naip_url = 'https://services.nationalmap.gov/arcgis/services/USGSNAIPImagery/ImageServer/WMSServer?'\n",
        "Map.add_wms_layer(url=naip_url, layers='0', name='NAIP Imagery', format='image/png', shown=True)\n",
        "Map"
      ],
      "execution_count": null,
      "outputs": []
    },
    {
      "cell_type": "code",
      "metadata": {
        "id": "tVosBIZbzSvQ"
      },
      "source": [
        "#Datos del asset\n",
        "cuenca=ee.FeatureCollection('users/mastergis01/Cuenca_Hidrografica')\n",
        "Map=geemap.Map(center=[-9.107848,-77.609993], zoom=5)\n",
        "Map.addLayer(cuenca, {}, \"cuenca\")\n",
        "Map.addLayerControl()\n",
        "Map"
      ],
      "execution_count": null,
      "outputs": []
    },
    {
      "cell_type": "code",
      "metadata": {
        "id": "DVMdoDdzzuM5"
      },
      "source": [
        "#convertir un shapefile en un objeto Earth Engine\n",
        "Map=geemap.Map(center=[-9.107848,-77.609993], zoom=9)\n",
        "ee_object = geemap.shp_to_ee('/content/sample_data/SHP/Huaylas.shp')\n",
        "Map.addLayer(ee_object, {}, 'Layer name')\n",
        "Map"
      ],
      "execution_count": null,
      "outputs": []
    },
    {
      "cell_type": "markdown",
      "metadata": {
        "id": "02oBycwy25CK"
      },
      "source": [
        "## **04: Earth Engine y geemap**"
      ]
    },
    {
      "cell_type": "code",
      "metadata": {
        "id": "qHGT1LDT25_p"
      },
      "source": [
        "#Datos del asset Code Editor\n",
        "Santa=ee.FeatureCollection('users/mastergis01/Cuenca_Hidrografica')\\\n",
        ".filter(ee.Filter.eq('NOMB_UH_N4', 'Santa'))\n",
        "\n",
        "#Colección de imagenes de Sentinel 2\n",
        "sentinel2=ee.ImageCollection(\"COPERNICUS/S2\")\n",
        "img=sentinel2.filterBounds(Santa)\\\n",
        ".filterDate('2018-01-01', '2018-04-30')\\\n",
        ".filterMetadata('CLOUDY_PIXEL_PERCENTAGE', 'less_than', 5)\\"
      ],
      "execution_count": null,
      "outputs": []
    },
    {
      "cell_type": "code",
      "metadata": {
        "id": "8BZip9gI31ta"
      },
      "source": [
        "ig=ee.Image('COPERNICUS/S2/20180124T152629_20180124T153457_T17LRJ')\n",
        "vis={'min':450, 'max':3500, 'bands': ['B4','B3','B2']}\n",
        "Map=geemap.Map(center=[-9.107848,-77.609993], zoom=9)\n",
        "Map.addLayer(ig, vis, 'image')\n",
        "Map"
      ],
      "execution_count": null,
      "outputs": []
    },
    {
      "cell_type": "markdown",
      "metadata": {
        "id": "1WU-KFWb4SVa"
      },
      "source": [
        "> ### Mosaico de Imagenes Sentinel 2"
      ]
    },
    {
      "cell_type": "code",
      "metadata": {
        "id": "CKHeSiqQ4Rgb"
      },
      "source": [
        "#Colección de imagenes Sentinel 2\n",
        "sentinel2=ee.ImageCollection(\"COPERNICUS/S2\")\n",
        "\n",
        "img=sentinel2.filterBounds(Santa)\\\n",
        ".filterDate('2018-01-01', '2018-04-30')\\\n",
        ".sort('CLOUDY_PIXEL_PERCENTAGE', False)\\\n",
        ".mosaic()\\\n",
        ".clip(Amzo)\n",
        "\n",
        "trucolor={'bands': ['B4','B3', 'B2'], 'min': 0, 'max':3000}"
      ],
      "execution_count": null,
      "outputs": []
    },
    {
      "cell_type": "code",
      "metadata": {
        "id": "cQJ442_74yXC"
      },
      "source": [
        "#Visualización del Mosaico\n",
        "Map=geemap.Map(center=[-9.107848,-77.609993], zoom=7)\n",
        "Map.addLayer(img, trucolor, 'True Color Composite')\n",
        "Map.addLayerControl()\n",
        "Map"
      ],
      "execution_count": null,
      "outputs": []
    }
  ]
}