{
  "nbformat": 4,
  "nbformat_minor": 0,
  "metadata": {
    "colab": {
      "name": "02_geemap.ipynb",
      "provenance": [],
      "collapsed_sections": [],
      "toc_visible": true,
      "authorship_tag": "ABX9TyMPmyh7EywugA1ktgwxeI+q",
      "include_colab_link": true
    },
    "kernelspec": {
      "name": "python3",
      "display_name": "Python 3"
    },
    "language_info": {
      "name": "python"
    }
  },
  "cells": [
    {
      "cell_type": "markdown",
      "metadata": {
        "id": "view-in-github",
        "colab_type": "text"
      },
      "source": [
        "<a href=\"https://colab.research.google.com/github/mastergis/MasterPremium_Intro_GEE_y_geemap/blob/main/02_geemap.ipynb\" target=\"_parent\"><img src=\"https://colab.research.google.com/assets/colab-badge.svg\" alt=\"Open In Colab\"/></a>"
      ]
    },
    {
      "cell_type": "markdown",
      "metadata": {
        "id": "bc5F3sKqSHda"
      },
      "source": [
        "# **Calculo de índices espectrales**"
      ]
    },
    {
      "cell_type": "code",
      "metadata": {
        "id": "9pB0aG4yOJYR"
      },
      "source": [
        "#@title **1. Inicializar Earth Engine**\n",
        "import ee\n",
        "ee.Authenticate()\n",
        "ee.Initialize()"
      ],
      "execution_count": null,
      "outputs": []
    },
    {
      "cell_type": "code",
      "metadata": {
        "id": "IKI4d_b8OMbL"
      },
      "source": [
        "#@title **2.Instalación de geemap**\n",
        "!pip install geemap\n",
        "import geemap.eefolium as geemap"
      ],
      "execution_count": null,
      "outputs": []
    },
    {
      "cell_type": "markdown",
      "metadata": {
        "id": "t4kUmNurOR8n"
      },
      "source": [
        "## Definir la región de interes "
      ]
    },
    {
      "cell_type": "code",
      "metadata": {
        "id": "KoB6tx71ScHj"
      },
      "source": [
        "peru=ee.FeatureCollection(\"FAO/GAUL/2015/level0\")\\\n",
        ".filter(ee.Filter.eq('ADM0_NAME', 'Peru'))"
      ],
      "execution_count": null,
      "outputs": []
    },
    {
      "cell_type": "code",
      "metadata": {
        "colab": {
          "base_uri": "https://localhost:8080/"
        },
        "id": "qChrGFFHOT-M",
        "outputId": "d5220796-69ba-4394-a8c4-6aa9a18fd02d"
      },
      "source": [
        "peru.geometry().centroid().coordinates().getInfo()"
      ],
      "execution_count": null,
      "outputs": [
        {
          "output_type": "execute_result",
          "data": {
            "text/plain": [
              "[-74.39882606629666, -9.12390421990768]"
            ]
          },
          "metadata": {
            "tags": []
          },
          "execution_count": 10
        }
      ]
    },
    {
      "cell_type": "code",
      "metadata": {
        "id": "T7ZeSZxiV_7b"
      },
      "source": [
        "Map=geemap.Map(center=[-9.12390421990768, -74.39882606629666], zoom=5)\n",
        "Map.addLayer(peru, {}, 'Peru')\n",
        "Map.addLayerControl()\n",
        "Map"
      ],
      "execution_count": null,
      "outputs": []
    },
    {
      "cell_type": "markdown",
      "metadata": {
        "id": "2i3YkOReXYXL"
      },
      "source": [
        "## Filtrar ImageCollection"
      ]
    },
    {
      "cell_type": "code",
      "metadata": {
        "id": "gnCR6TBAXe_k"
      },
      "source": [
        "ColLand8=ee.ImageCollection(\"LANDSAT/LC08/C01/T1_TOA\")\\\n",
        ".filterBounds(peru)\\\n",
        ".filterDate('2019-01-01', '2020-01-01')\\\n",
        ".filterMetadata('CLOUD_COVER', 'less_than', 40)"
      ],
      "execution_count": null,
      "outputs": []
    },
    {
      "cell_type": "markdown",
      "metadata": {
        "id": "E-Nb7LqvYjGm"
      },
      "source": [
        "## Crear un compuesto de mediana y NDVI"
      ]
    },
    {
      "cell_type": "code",
      "metadata": {
        "id": "T2A2v5Q1YmyA"
      },
      "source": [
        "\n",
        "median=ColLand8.median().clip(peru)\n",
        "visParams={\n",
        "    'bands':['B4','B3', 'B2'],\n",
        "    'min':0,\n",
        "    'max':0.4\n",
        "}\n",
        "#visualización \n",
        "Map=geemap.Map(center=[-9.12390421990768, -74.39882606629666], zoom=6)\n",
        "Map.addLayer(median, visParams , 'Media')\n",
        "Map.addLayerControl()\n",
        "Map"
      ],
      "execution_count": null,
      "outputs": []
    },
    {
      "cell_type": "code",
      "metadata": {
        "id": "4k3ykrD9fKi6"
      },
      "source": [
        "#Calculo del NDVI\n",
        "ndvi=median.normalizedDifference(['B5','B4'])\n",
        "ndvi_palette= [\n",
        "    'FFFFFF', 'CE7E45', 'DF923D', 'F1B555', 'FCD163', '99B718', '74A901',\n",
        "    '66A000', '529400', '3E8601', '207401', '056201', '004C00', '023B01',\n",
        "    '012E01', '011D01', '011301'\n",
        "  ]\n",
        "#calculo del NDSI\n",
        "ndsi=median.normalizedDifference(['B6', 'B2'])\n",
        "ndsi_palette = ['white','000088', '0000FF', '8888FF', 'FFFFFF']\n",
        "#visualización \n",
        "Map=geemap.Map(center=[-9.12390421990768, -74.39882606629666], zoom=6)\n",
        "Map.addLayer(ndvi, {'palette':ndvi_palette, 'min':0, 'max':1} , 'NDVI', 0)\n",
        "Map.addLayer(ndwi, {'palette':ndsi_palette} , 'NDWI')\n",
        "Map.addLayerControl()\n",
        "Map"
      ],
      "execution_count": null,
      "outputs": []
    }
  ]
}