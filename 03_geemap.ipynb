{
  "nbformat": 4,
  "nbformat_minor": 0,
  "metadata": {
    "colab": {
      "name": "03_geemap.ipynb",
      "provenance": [],
      "collapsed_sections": [],
      "toc_visible": true,
      "authorship_tag": "ABX9TyPFwDqn9dulI71RhFk1Gmjw",
      "include_colab_link": true
    },
    "kernelspec": {
      "name": "python3",
      "display_name": "Python 3"
    },
    "language_info": {
      "name": "python"
    }
  },
  "cells": [
    {
      "cell_type": "markdown",
      "metadata": {
        "id": "view-in-github",
        "colab_type": "text"
      },
      "source": [
        "<a href=\"https://colab.research.google.com/github/mastergis/MasterPremium_Intro_GEE_y_geemap/blob/main/03_geemap.ipynb\" target=\"_parent\"><img src=\"https://colab.research.google.com/assets/colab-badge.svg\" alt=\"Open In Colab\"/></a>"
      ]
    },
    {
      "cell_type": "code",
      "metadata": {
        "id": "trVwTuqOzxPz"
      },
      "source": [
        "#@title **1. Inicializar Earth Engine**\n",
        "import ee\n",
        "ee.Authenticate()\n",
        "ee.Initialize()"
      ],
      "execution_count": null,
      "outputs": []
    },
    {
      "cell_type": "code",
      "metadata": {
        "id": "t1N6fgtczJ0w"
      },
      "source": [
        "#@title **2.Instalación de geemap**\n",
        "!pip install geemap\n",
        "import geemap.eefolium as geemap"
      ],
      "execution_count": null,
      "outputs": []
    },
    {
      "cell_type": "code",
      "metadata": {
        "id": "Beo9TdxH7cN0"
      },
      "source": [
        "yungay=ee.FeatureCollection('users/mastergis01/Limite_Provincial')\\\n",
        ".filter(ee.Filter.eq('NOMBPROV', 'YUNGAY'))\n"
      ],
      "execution_count": null,
      "outputs": []
    },
    {
      "cell_type": "code",
      "metadata": {
        "colab": {
          "base_uri": "https://localhost:8080/"
        },
        "id": "PPKaBAMaBa83",
        "outputId": "7dbe49c9-8fe7-4c59-a9a8-42308deb06dc"
      },
      "source": [
        "yungay.geometry().centroid().coordinates().getInfo()"
      ],
      "execution_count": null,
      "outputs": [
        {
          "output_type": "execute_result",
          "data": {
            "text/plain": [
              "[-77.74284103895279, -9.201391765918503]"
            ]
          },
          "metadata": {
            "tags": []
          },
          "execution_count": 17
        }
      ]
    },
    {
      "cell_type": "code",
      "metadata": {
        "id": "ZspTwqWTAyzd"
      },
      "source": [
        "Map=geemap.Map(center=[-9.201391765918503, -77.74284103895279], zoom=10)\n",
        "Map.addLayer(yungay, {}, 'Yungay')\n",
        "Map.addLayerControl()\n",
        "Map"
      ],
      "execution_count": null,
      "outputs": []
    },
    {
      "cell_type": "code",
      "metadata": {
        "colab": {
          "base_uri": "https://localhost:8080/"
        },
        "id": "HoeH5PtFCVsh",
        "outputId": "20cdb651-5bd4-420a-cfa1-85b6a46deade"
      },
      "source": [
        "#@title **3.Google Drive**\n",
        "from google.colab import drive\n",
        "drive.mount('/content/drive')"
      ],
      "execution_count": null,
      "outputs": [
        {
          "output_type": "stream",
          "text": [
            "Mounted at /content/drive\n"
          ],
          "name": "stdout"
        }
      ]
    },
    {
      "cell_type": "code",
      "metadata": {
        "id": "U8jViZ17FyWh"
      },
      "source": [
        "#Parametros de visualizacion\n",
        "video_arg={\n",
        "    'dimensions': 768,\n",
        "    'region': yungay,\n",
        "    'framesPerSecond':1,\n",
        "    'bands':['NIR', 'Red', 'Green'],\n",
        "    'min':0, \n",
        "    'max': 4000,\n",
        "    'gamma': [1,1,1]\n",
        "}"
      ],
      "execution_count": null,
      "outputs": []
    },
    {
      "cell_type": "code",
      "metadata": {
        "id": "nNgxuJOGIITT"
      },
      "source": [
        "#Series de Tiempo\n",
        "TimeSeries=geemap.landsat_timeseries(roi=yungay,\n",
        "                                     start_year=2000, \n",
        "                                     end_year=2020, \n",
        "                                     start_date='06-10',\n",
        "                                     end_date='09-20')"
      ],
      "execution_count": null,
      "outputs": []
    },
    {
      "cell_type": "code",
      "metadata": {
        "id": "T9awZWTjKPe6"
      },
      "source": [
        "#Descargar serie de Tiempo\n",
        "geemap.download_ee_video(TimeSeries, video_arg, '/content/drive/MyDrive/Colab Notebooks/GIF/TimeSeries2.gif')"
      ],
      "execution_count": null,
      "outputs": []
    }
  ]
}